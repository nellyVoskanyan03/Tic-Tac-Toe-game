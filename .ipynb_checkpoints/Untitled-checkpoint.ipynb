{
 "cells": [
  {
   "cell_type": "code",
   "execution_count": 1,
   "id": "1b5968d6",
   "metadata": {},
   "outputs": [],
   "source": [
    "players={'1':'X','2':'O'}"
   ]
  },
  {
   "cell_type": "code",
   "execution_count": 2,
   "id": "a3b5b555",
   "metadata": {},
   "outputs": [],
   "source": [
    "board =[[' ',' ',' '],[' ',' ',' '],[' ',' ',' ']]"
   ]
  },
  {
   "cell_type": "code",
   "execution_count": 13,
   "id": "9cded46b",
   "metadata": {},
   "outputs": [],
   "source": [
    "def userinput(player):\n",
    "     \n",
    "    indexes =input(f'PLAYER {player} please input the indexes of the cell:')\n",
    "    i = int(indexes.split()[0])\n",
    "    j = int(indexes.split()[1])\n",
    "    while board[i][j] != ' ':\n",
    "        indexes =input(f'PLAYER {player} please input the indexes of the cell:')\n",
    "        i = int(indexes.split()[0])\n",
    "        j = int(indexes.split()[1])\n",
    "    boardupdate(i,j,players[player])"
   ]
  },
  {
   "cell_type": "code",
   "execution_count": 4,
   "id": "bc1d38b8",
   "metadata": {},
   "outputs": [],
   "source": [
    "def printboard():\n",
    "    for line in board:\n",
    "        print(line)\n",
    "        "
   ]
  },
  {
   "cell_type": "code",
   "execution_count": 5,
   "id": "ac7063b9",
   "metadata": {},
   "outputs": [],
   "source": [
    "def userinput(player):\n",
    "    indexes =input(f'PLAYER {player} please input the indexes of the cell:')\n",
    "    i = int(indexes.split()[0])\n",
    "    j = int(indexes.split()[1])\n",
    "   \n",
    "    boardupdate(i,j,players[player])\n",
    "        "
   ]
  },
  {
   "cell_type": "code",
   "execution_count": 6,
   "id": "7d60f5bb",
   "metadata": {},
   "outputs": [],
   "source": [
    "def boardisnotfull():\n",
    "    if board[0].count(' ') == 0 and board[1].count(' ') == 0 and board[2].count(' ') == 0:\n",
    "        return False\n",
    "    return True"
   ]
  },
  {
   "cell_type": "code",
   "execution_count": 7,
   "id": "08f4c192",
   "metadata": {},
   "outputs": [],
   "source": [
    "def winner():\n",
    "   \n",
    "    #chaech in lines\n",
    "    for line in board:\n",
    "        if line.count('O') == 3:\n",
    "            return '2'\n",
    "        if line.count('X') == 3:\n",
    "            return '1'\n",
    "    #check in columns\n",
    "    i=0\n",
    "    while i<3:\n",
    "        if board[0][i] == board[1][i] and board[1][i]==board[2][i]:\n",
    "            if board[0][i]=='X':\n",
    "                return '1'\n",
    "            if board[0][i]=='O':\n",
    "                return '2'\n",
    "        \n",
    "        i+=1\n",
    "    \n",
    "   #check in diagonal\n",
    "    if board[0][0] == board[1][1] and board[1][1]==board[2][2]:\n",
    "        if board[0][0]=='X':\n",
    "             return '1'\n",
    "        if board[0][0]=='O':\n",
    "              return '2'\n",
    "            \n",
    "    if board[0][2] == board[1][1] and board[1][1]==board[2][0]:\n",
    "        if board[0][2]=='X':\n",
    "             return '1'\n",
    "        if board[0][2]=='O':\n",
    "              return '2'\n",
    "        \n",
    "    #the gameis not over\n",
    "    return None\n",
    "     "
   ]
  },
  {
   "cell_type": "code",
   "execution_count": 12,
   "id": "54009081",
   "metadata": {},
   "outputs": [
    {
     "name": "stdout",
     "output_type": "stream",
     "text": [
      "[' ', ' ', ' ']\n",
      "[' ', ' ', ' ']\n",
      "[' ', ' ', ' ']\n",
      "PLAYER 1 please input the indexes of the cell:0 2\n",
      "[' ', ' ', 'X']\n",
      "[' ', ' ', ' ']\n",
      "[' ', ' ', ' ']\n",
      "PLAYER 2 please input the indexes of the cell:1 1\n",
      "[' ', ' ', 'X']\n",
      "[' ', 'O', ' ']\n",
      "[' ', ' ', ' ']\n",
      "PLAYER 1 please input the indexes of the cell:2 0\n",
      "[' ', ' ', 'X']\n",
      "[' ', 'O', ' ']\n",
      "['X', ' ', ' ']\n",
      "PLAYER 2 please input the indexes of the cell: 0  0\n",
      "['O', ' ', 'X']\n",
      "[' ', 'O', ' ']\n",
      "['X', ' ', ' ']\n",
      "PLAYER 1 please input the indexes of the cell:2 2\n",
      "['O', ' ', 'X']\n",
      "[' ', 'O', ' ']\n",
      "['X', ' ', 'X']\n",
      "PLAYER 2 please input the indexes of the cell:2 1\n",
      "['O', ' ', 'X']\n",
      "[' ', 'O', ' ']\n",
      "['X', 'O', 'X']\n",
      "PLAYER 1 please input the indexes of the cell:1 2\n",
      "['O', ' ', 'X']\n",
      "[' ', 'O', 'X']\n",
      "['X', 'O', 'X']\n",
      "The winner is player 1!!!!!!!!!!!!!!\n",
      "Game is over.\n"
     ]
    }
   ],
   "source": [
    "board =[[' ',' ',' '],[' ',' ',' '],[' ',' ',' ']]\n",
    "printboard()\n",
    "i=0\n",
    "while boardisnotfull() and winner() == None:\n",
    "    if i%2==0:\n",
    "        userinput('1')\n",
    "    else:\n",
    "        userinput('2')\n",
    "    printboard()\n",
    "    i+=1\n",
    "res = winner()\n",
    "if res != '0':\n",
    "    print(f'The winner is player {winner()}!!!!!!!!!!!!!!')\n",
    "print (\"Game is over.\")"
   ]
  },
  {
   "cell_type": "code",
   "execution_count": null,
   "id": "1f54b7c0",
   "metadata": {},
   "outputs": [],
   "source": []
  }
 ],
 "metadata": {
  "kernelspec": {
   "display_name": "Python 3 (ipykernel)",
   "language": "python",
   "name": "python3"
  },
  "language_info": {
   "codemirror_mode": {
    "name": "ipython",
    "version": 3
   },
   "file_extension": ".py",
   "mimetype": "text/x-python",
   "name": "python",
   "nbconvert_exporter": "python",
   "pygments_lexer": "ipython3",
   "version": "3.11.5"
  }
 },
 "nbformat": 4,
 "nbformat_minor": 5
}
